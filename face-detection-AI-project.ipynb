{
 "cells": [
  {
   "cell_type": "markdown",
   "id": "bfc1536f-e363-4c58-b809-c3cf34df3987",
   "metadata": {},
   "source": [
    "## Face Detection AI Project"
   ]
  },
  {
   "cell_type": "code",
   "execution_count": 2,
   "id": "9ef59db5-fce3-4f50-bdb6-b107c058a850",
   "metadata": {},
   "outputs": [
    {
     "name": "stdout",
     "output_type": "stream",
     "text": [
      "################|| Downloading face-detection-adas-0001 ||################\n",
      "\n",
      "========== Downloading C:\\BrainAI\\face-detection\\intel\\face-detection-adas-0001\\FP32\\face-detection-adas-0001.xml\n",
      "... 100%, 228 KB, 69 KB/s, 3 seconds passed\n",
      "\n",
      "========== Downloading C:\\BrainAI\\face-detection\\intel\\face-detection-adas-0001\\FP32\\face-detection-adas-0001.bin\n",
      "... 24%, 1024 KB, 744 KB/s, 1 seconds passed\n",
      "... 49%, 2048 KB, 1272 KB/s, 1 seconds passed\n",
      "... 74%, 3072 KB, 1872 KB/s, 1 seconds passed\n",
      "... 99%, 4096 KB, 2221 KB/s, 1 seconds passed\n",
      "... 100%, 4113 KB, 2230 KB/s, 1 seconds passed\n",
      "\n"
     ]
    }
   ],
   "source": [
    "! omz_downloader --name face-detection-adas-0001 --precision FP32"
   ]
  },
  {
   "cell_type": "code",
   "execution_count": 3,
   "id": "d3ab1006-1386-4c63-87f3-a6940f7adde3",
   "metadata": {},
   "outputs": [],
   "source": [
    "import openvino as ov\n",
    "import cv2\n",
    "import numpy as np\n",
    "\n",
    "import matplotlib.pyplot as plt\n",
    "from pathlib import Path"
   ]
  },
  {
   "cell_type": "code",
   "execution_count": 4,
   "id": "394225c7-1b90-46ac-b654-8656270659ab",
   "metadata": {},
   "outputs": [
    {
     "data": {
      "text/plain": [
       "['CPU', 'GPU']"
      ]
     },
     "execution_count": 4,
     "metadata": {},
     "output_type": "execute_result"
    }
   ],
   "source": [
    "core = ov.Core()\n",
    "options=core.available_devices\n",
    "\n",
    "options"
   ]
  },
  {
   "cell_type": "code",
   "execution_count": 5,
   "id": "5dd9bc27-a0c8-4169-92be-b7b15aa262e3",
   "metadata": {},
   "outputs": [
    {
     "name": "stdout",
     "output_type": "stream",
     "text": [
      "Input layer shape:  [1,3,384,672]\n",
      "Output layer shape: [1,1,200,7]\n"
     ]
    }
   ],
   "source": [
    "core = ov.Core()\n",
    "\n",
    "model = core.read_model(model='./models/face-detection-adas-0001.xml')\n",
    "face_model = core.compile_model(model=model, device_name=\"CPU\")\n",
    "\n",
    "face_input_layer = face_model.input(0)\n",
    "face_output_layer = face_model.output(0)\n",
    "\n",
    "print(\"Input layer shape: \", face_input_layer.shape)\n",
    "print(\"Output layer shape:\", face_output_layer.shape)"
   ]
  },
  {
   "cell_type": "code",
   "execution_count": 9,
   "id": "e76bae07-c068-415c-94c0-775a01ce8a46",
   "metadata": {},
   "outputs": [],
   "source": [
    "frame = cv2.imread(\"images/test.jpeg\")\n",
    "resized_frame = cv2.resize(src=frame, dsize=(672, 384)) \n",
    "transposed_frame = resized_frame.transpose(2, 0, 1)\n",
    "input_frame = np.expand_dims(transposed_frame, 0)"
   ]
  },
  {
   "cell_type": "code",
   "execution_count": 10,
   "id": "8b627b07-86dc-4a29-9f3e-019e453d8c8a",
   "metadata": {},
   "outputs": [],
   "source": [
    "face_output = face_model([input_frame])[face_output_layer]"
   ]
  },
  {
   "cell_type": "code",
   "execution_count": 11,
   "id": "d33707ba-3ab7-4511-ba37-0549a6c9319f",
   "metadata": {},
   "outputs": [],
   "source": [
    "def DrawBoundingBoxes(output, image, conf):\n",
    "\n",
    "    canvas = image.copy()\n",
    "    h,w,_ = canvas.shape \n",
    "\n",
    "    predictions = output[0][0]            # 하위 집합 데이터 프레임\n",
    "    confidence = predictions[:,2]         # conf 값 가져오기 [image_id, label, conf, x_min, y_min, x_max, y_max]\n",
    "\n",
    "    top_predictions = predictions[(confidence>conf)]         # 임계값보다 큰 conf 값을 가진 예측만 선택\n",
    "\n",
    "    for detection in top_predictions:\n",
    "        box = detection[3:7] * np.array([w, h, w, h]) # 상자 위치 결정\n",
    "        (xmin, ymin, xmax, ymax) = box.astype(\"int\")  # xmin, ymin, xmax, ymax에 상자 위치 값 지정\n",
    "\n",
    "        cv2.rectangle(canvas, (xmin, ymin), (xmax, ymax), (0, 0, 255), 2)       # 사각형 만들기\n",
    "    \n",
    "   \n",
    "    return canvas"
   ]
  },
  {
   "cell_type": "code",
   "execution_count": 29,
   "id": "9bd825fc-abdf-48db-8920-0ec2347e6fc9",
   "metadata": {},
   "outputs": [],
   "source": [
    "canvas = DrawBoundingBoxes(face_output, frame, conf=0.5)\n",
    "cv2.imshow(\"Face\", canvas)\n",
    "\n",
    "cv2.waitKey(0)\n",
    "cv2.destroyAllWindows()"
   ]
  },
  {
   "cell_type": "code",
   "execution_count": 27,
   "id": "f7edeadf-129c-46b0-a92e-d69b777d8d8c",
   "metadata": {},
   "outputs": [],
   "source": [
    "def AddBackground(frame, bg):\n",
    "\n",
    "    frame_h, frame_w = frame.shape[0], frame.shape[1]\n",
    "    new_h = 500\n",
    "    new_w = int((new_h/frame_h)*frame_w)\n",
    "    frame_resize = cv2.resize(frame, (new_w, new_h))\n",
    "\n",
    "    xmax = bg.shape[1] - 350\n",
    "    ymax = bg.shape[0] - 175\n",
    "    xmin = xmax - new_w\n",
    "    ymin = ymax - new_h\n",
    "\n",
    "    bg[ymin:ymax, xmin:xmax] = frame_resize\n",
    "\n",
    "    return bg"
   ]
  },
  {
   "cell_type": "code",
   "execution_count": 28,
   "id": "acc75a9e-a8ea-4188-a03b-b6d2f2fc0879",
   "metadata": {},
   "outputs": [],
   "source": [
    "background = \"./images/Bacground.jpg\"  #사용할 배경화면 경로\n",
    "canvas = DrawBoundingBoxes(face_output, frame, conf=0.5)  \n",
    "bg = cv2.imread(background)\n",
    "\n",
    "deployment = AddBackground(canvas, bg)\n",
    "cv2.imshow(\"Deployment\", deployment)\n",
    "\n",
    "cv2.waitKey(0)\n",
    "cv2.destroyAllWindows()"
   ]
  },
  {
   "cell_type": "code",
   "execution_count": 35,
   "id": "1ed5bc63-c081-4436-be52-d35f67f617bb",
   "metadata": {},
   "outputs": [],
   "source": [
    "camera = cv2.VideoCapture(0) #create a VideoCapture object with the 'first' camera (your webcam)\n",
    "background = \"./images/Background.jpg\"\n",
    "bg = cv2.imread(background)\n",
    "\n",
    "while(True):\n",
    "    ret, frame = camera.read()             # Capture frame by frame      \n",
    "    if ret == False:\n",
    "        break\n",
    "    \n",
    "    resized_frame = cv2.resize(src=frame, dsize=(672, 384)) \n",
    "    transposed_frame = resized_frame.transpose(2, 0, 1)\n",
    "    input_frame = np.expand_dims(transposed_frame, 0)    \n",
    "    \n",
    "    face_output = face_model([input_frame])[face_output_layer]\n",
    "\n",
    "    canvas = DrawBoundingBoxes(face_output, frame, conf=0.5)\n",
    "    deployment = AddBackground(canvas, bg)\n",
    "    \n",
    "    cv2.imshow('Press Spacebar to Exit', deployment)\n",
    "\n",
    "    if cv2.waitKey(1) & 0xFF == ord(' '):  # Stop if spacebar is detected\n",
    "        break\n",
    "\n",
    "camera.release()                           # Cleanup after spacebar is detected.\n",
    "cv2.destroyAllWindows()"
   ]
  },
  {
   "cell_type": "code",
   "execution_count": null,
   "id": "37d6f612-d2de-43b0-94e3-9d70e43c86c4",
   "metadata": {},
   "outputs": [],
   "source": []
  }
 ],
 "metadata": {
  "kernelspec": {
   "display_name": "Python 3 (ipykernel)",
   "language": "python",
   "name": "python3"
  },
  "language_info": {
   "codemirror_mode": {
    "name": "ipython",
    "version": 3
   },
   "file_extension": ".py",
   "mimetype": "text/x-python",
   "name": "python",
   "nbconvert_exporter": "python",
   "pygments_lexer": "ipython3",
   "version": "3.8.15"
  }
 },
 "nbformat": 4,
 "nbformat_minor": 5
}
